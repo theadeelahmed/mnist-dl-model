{
 "cells": [
  {
   "cell_type": "code",
   "execution_count": 1,
   "id": "64becb7d-3741-428a-9785-fdbfd4b482de",
   "metadata": {},
   "outputs": [],
   "source": [
    "from tensorflow.keras.models import load_model       #model loading or Deployment\n",
    "model = load_model('Classifier.keras')"
   ]
  },
  {
   "cell_type": "code",
   "execution_count": 2,
   "id": "8c09a435-d8c9-4f1e-b8d7-e2f0ebea688a",
   "metadata": {},
   "outputs": [],
   "source": [
    "from tensorflow.keras.preprocessing import image"
   ]
  },
  {
   "cell_type": "code",
   "execution_count": 4,
   "id": "bf4a8261-3ac4-4f2e-bb9c-40244b81b422",
   "metadata": {},
   "outputs": [
    {
     "name": "stdout",
     "output_type": "stream",
     "text": [
      "(28, 28, 3)\n"
     ]
    },
    {
     "data": {
      "text/plain": [
       "(1, 28, 28)"
      ]
     },
     "execution_count": 4,
     "metadata": {},
     "output_type": "execute_result"
    }
   ],
   "source": [
    "import numpy as np\n",
    "img = image.load_img(\"seven.jpg\", target_size=(28,28))\n",
    "x = image.img_to_array(img)\n",
    "print(x.shape)\n",
    "\n",
    "x = np.expand_dims(x, axis=0)\n",
    "x = x / 255.0  # Normalize the image\n",
    "\n",
    "# Convert to grayscale (average of RGB channels)\n",
    "gray_img = np.dot(x[...,:3], [0.2989, 0.5870, 0.1140])\n",
    "gray_img.reshape(1,784)\n",
    "gray_img.shape"
   ]
  },
  {
   "cell_type": "code",
   "execution_count": 5,
   "id": "c5e26721-50fa-4ca7-8f4a-460e40fa874b",
   "metadata": {},
   "outputs": [
    {
     "name": "stdout",
     "output_type": "stream",
     "text": [
      "\u001b[1m1/1\u001b[0m \u001b[32m━━━━━━━━━━━━━━━━━━━━\u001b[0m\u001b[37m\u001b[0m \u001b[1m1s\u001b[0m 1s/step\n"
     ]
    },
    {
     "data": {
      "text/plain": [
       "array([[7.43069407e-03, 2.09401815e-10, 1.17540635e-01, 1.69565037e-01,\n",
       "        2.11324204e-13, 1.32631078e-01, 3.61343427e-03, 6.33068664e-09,\n",
       "        5.69217920e-01, 1.11635620e-06]], dtype=float32)"
      ]
     },
     "execution_count": 5,
     "metadata": {},
     "output_type": "execute_result"
    }
   ],
   "source": [
    "model.predict(gray_img.reshape(1,784))"
   ]
  },
  {
   "cell_type": "code",
   "execution_count": 6,
   "id": "15d17bc7-4176-41b9-aec1-d4c131ee83eb",
   "metadata": {},
   "outputs": [
    {
     "name": "stdout",
     "output_type": "stream",
     "text": [
      "\u001b[1m1/1\u001b[0m \u001b[32m━━━━━━━━━━━━━━━━━━━━\u001b[0m\u001b[37m\u001b[0m \u001b[1m0s\u001b[0m 69ms/step\n"
     ]
    },
    {
     "data": {
      "text/plain": [
       "8"
      ]
     },
     "execution_count": 6,
     "metadata": {},
     "output_type": "execute_result"
    }
   ],
   "source": [
    "np.argmax(model.predict(gray_img.reshape(1,784)))"
   ]
  },
  {
   "cell_type": "code",
   "execution_count": null,
   "id": "e13abc07-625d-4c22-a6a6-8a675a97c253",
   "metadata": {},
   "outputs": [],
   "source": []
  }
 ],
 "metadata": {
  "kernelspec": {
   "display_name": "Python 3 (ipykernel)",
   "language": "python",
   "name": "python3"
  },
  "language_info": {
   "codemirror_mode": {
    "name": "ipython",
    "version": 3
   },
   "file_extension": ".py",
   "mimetype": "text/x-python",
   "name": "python",
   "nbconvert_exporter": "python",
   "pygments_lexer": "ipython3",
   "version": "3.11.7"
  }
 },
 "nbformat": 4,
 "nbformat_minor": 5
}
